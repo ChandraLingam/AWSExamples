{
 "cells": [
  {
   "cell_type": "code",
   "execution_count": null,
   "metadata": {},
   "outputs": [],
   "source": [
    "#  Original Question: https://www.reddit.com/r/aws/comments/ba9tef/dynamodb_capacity_units_consumed_by_conditional/\n",
    "\n",
    "# Objective: Compare Normal Write and Conditional Write Capacity Consumed\n",
    "#  First write will succeed for both; however, subsequent conditional writes will fail\n",
    "#  We need to look at cloudwatch metrics to see the write capacity consumed\n",
    "# Total runtime Approx 15 minutes\n",
    "\n",
    "# Chandra Lingam, AWS Instructor and Trainer\n",
    "# Cloud Wave LLC\n",
    "\n",
    "import boto3\n",
    "import json\n",
    "import decimal\n",
    "from boto3.dynamodb.conditions import Key, Attr\n",
    "from botocore.exceptions import ClientError\n",
    "import time"
   ]
  },
  {
   "cell_type": "code",
   "execution_count": null,
   "metadata": {},
   "outputs": [],
   "source": [
    "# Specify the profile to use\n",
    "profile_name = 'your profile'"
   ]
  },
  {
   "cell_type": "code",
   "execution_count": null,
   "metadata": {},
   "outputs": [],
   "source": [
    "# Identify the profile to use for this session\n",
    "session = boto3.Session(profile_name=profile_name)"
   ]
  },
  {
   "cell_type": "code",
   "execution_count": null,
   "metadata": {},
   "outputs": [],
   "source": [
    "# NOTE: Create two dynamodb tables: \n",
    "#  normal_write and conditional_write  (with 5 RCUs and 5 WCUs)\n",
    "#  Id (number) as Partition Key"
   ]
  },
  {
   "cell_type": "code",
   "execution_count": null,
   "metadata": {},
   "outputs": [],
   "source": [
    "# acquire a dynamodb resource\n",
    "dynamodb = session.resource('dynamodb')"
   ]
  },
  {
   "cell_type": "code",
   "execution_count": null,
   "metadata": {},
   "outputs": [],
   "source": [
    "table_normal = dynamodb.Table('normal_write')\n",
    "table_conditional = dynamodb.Table('conditional_write')"
   ]
  },
  {
   "cell_type": "code",
   "execution_count": null,
   "metadata": {},
   "outputs": [],
   "source": [
    "for i in range(600):\n",
    "    # normal Write\n",
    "    table_normal.put_item(Item={'Id': 2019,'title': 'Test Normal'},\n",
    "                          ReturnConsumedCapacity='TOTAL')\n",
    "\n",
    "    # Conditional Write\n",
    "    try:\n",
    "        table_conditional.put_item(Item={'Id': 2020,'title': 'Test Conditional'},\n",
    "              ReturnConsumedCapacity='TOTAL',\n",
    "              ConditionExpression='attribute_not_exists(Id)')\n",
    "    except ClientError as e:\n",
    "        print(e.response)\n",
    "        \n",
    "    time.sleep(1)"
   ]
  },
  {
   "cell_type": "code",
   "execution_count": null,
   "metadata": {},
   "outputs": [],
   "source": []
  }
 ],
 "metadata": {
  "kernelspec": {
   "display_name": "Python 3",
   "language": "python",
   "name": "python3"
  },
  "language_info": {
   "codemirror_mode": {
    "name": "ipython",
    "version": 3
   },
   "file_extension": ".py",
   "mimetype": "text/x-python",
   "name": "python",
   "nbconvert_exporter": "python",
   "pygments_lexer": "ipython3",
   "version": "3.7.1"
  }
 },
 "nbformat": 4,
 "nbformat_minor": 2
}
